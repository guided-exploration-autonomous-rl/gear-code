{
 "cells": [
  {
   "cell_type": "code",
   "execution_count": 1,
   "metadata": {},
   "outputs": [],
   "source": [
    "from PIL import Image\n",
    "import numpy as np\n",
    "import cv2\n",
    "import torch\n",
    "import matplotlib\n",
    "%matplotlib inline\n",
    "import matplotlib.pyplot as plt\n",
    "import math\n",
    "import matplotlib.cm as cm\n",
    "\n",
    "import autoregressive_model"
   ]
  },
  {
   "cell_type": "markdown",
   "metadata": {},
   "source": [
    "Load data and train the model"
   ]
  },
  {
   "cell_type": "code",
   "execution_count": 15,
   "metadata": {},
   "outputs": [],
   "source": [
    "model = autoregressive_model.AutoRegressiveModel(3, 6, 512, 3, num_buckets = 20, ac_low = np.array([-3, -2, -1, -3, -2, -1]), ac_high = np.array([3, 2, 1, 3, 2, 1])).cuda()\n",
    "optimizer = torch.optim.Adam(model.parameters())"
   ]
  },
  {
   "cell_type": "code",
   "execution_count": null,
   "metadata": {},
   "outputs": [],
   "source": []
  },
  {
   "cell_type": "code",
   "execution_count": 16,
   "metadata": {},
   "outputs": [],
   "source": [
    "buffer_states = np.load(\"Buffer.npz\")[\"states\"]\n",
    "traj_lengths = np.array([np.argmax([(np.zeros(9) == buffer_states[i,j]).all() for j in range(buffer_states.shape[1])] + [True]) for i in range(buffer_states.shape[0])])\n",
    "length_between_samples = 50"
   ]
  },
  {
   "cell_type": "code",
   "execution_count": 17,
   "metadata": {},
   "outputs": [
    {
     "name": "stdout",
     "output_type": "stream",
     "text": [
      "2\n",
      "2178\n",
      "2285\n",
      "2600\n",
      "2651\n",
      "2941\n",
      "3011\n",
      "3021\n"
     ]
    }
   ],
   "source": [
    "buffer_states_new = []\n",
    "\n",
    "def encode(s):\n",
    "    num_buckets = 20\n",
    "    ac_low = model.ac_low.cpu().numpy()\n",
    "    ac_high = model.ac_high.cpu().numpy()\n",
    "    bucket_size = (ac_high - ac_low)/num_buckets\n",
    "    bucket_idx = (s[:3] - ac_low[:3]) // (bucket_size[:3] + 1e-9)\n",
    "    bucket_idx = np.clip(bucket_idx, 0, num_buckets - 1)\n",
    "#     print(bucket_idx)\n",
    "    return \"$\".join([str(int(x)) for x in bucket_idx])\n",
    "\n",
    "for j, traj in enumerate(buffer_states):\n",
    "#     print(j, \"of\", len(buffer_states))\n",
    "    skip = True\n",
    "    for s in traj:\n",
    "#         print(s)\n",
    "        if encode(s[:3]) == encode(np.array([2, -1, 0])):\n",
    "#             print(\"In here\")\n",
    "            skip = False\n",
    "            break\n",
    "    if not skip:\n",
    "        print(j)\n",
    "        buffer_states_new.append(traj)\n",
    "\n",
    "buffer_states = buffer_states[0:1000]\n",
    "buffer_states = list(buffer_states) + buffer_states_new\n",
    "buffer_states = np.asarray(buffer_states)"
   ]
  },
  {
   "cell_type": "code",
   "execution_count": 18,
   "metadata": {},
   "outputs": [],
   "source": [
    "def sample_visited_batch(batch_size, max_diff):\n",
    "    \"\"\"\n",
    "    Retruns pairs of observations that are at most max_diff timesteps appart\n",
    "    \"\"\"\n",
    "\n",
    "    traj_idxs = np.random.choice(len(buffer_states), batch_size)\n",
    "\n",
    "    time_idxs_1 = np.random.randint(0, traj_lengths[traj_idxs] - 1)\n",
    "    time_idxs_2 = np.random.randint(1 + time_idxs_1, np.minimum(traj_lengths[traj_idxs], time_idxs_1 + max_diff + 1))\n",
    "\n",
    "    observations1 = buffer_states[traj_idxs, time_idxs_1, :3]\n",
    "    observations2 = buffer_states[traj_idxs, time_idxs_2, :3]\n",
    "\n",
    "    return observations1, observations2"
   ]
  },
  {
   "cell_type": "code",
   "execution_count": null,
   "metadata": {},
   "outputs": [],
   "source": []
  },
  {
   "cell_type": "code",
   "execution_count": 19,
   "metadata": {},
   "outputs": [],
   "source": [
    "def train_autoregressive_model(batch_size=4096, num_epochs=20000, freq_print = None):\n",
    "    \"\"\"\n",
    "    Trains the autoregressive model by sampling pairs of visited states\n",
    "    \"\"\"\n",
    "\n",
    "    if freq_print is None:\n",
    "        freq_print = num_epochs / 100\n",
    "    \n",
    "    model.trunks.train()\n",
    "    running_loss = 0.0\n",
    "\n",
    "    for epoch in range(num_epochs):\n",
    "        states_1, states_2 = sample_visited_batch(batch_size, length_between_samples)\n",
    "        optimizer.zero_grad()\n",
    "\n",
    "        states_1 = torch.Tensor(states_1).cuda()\n",
    "        states_2 = torch.Tensor(states_2).cuda()\n",
    "\n",
    "        ins = torch.zeros_like(states_1).cuda()\n",
    "        states = torch.cat([states_1, states_2], dim=-1)\n",
    "        \n",
    "        loss = -torch.mean(model.log_prob(ins, states))\n",
    "        loss.backward()\n",
    "        optimizer.step()\n",
    "\n",
    "        running_loss += float(loss.item())\n",
    "        \n",
    "        if epoch % freq_print == 0:\n",
    "            print(f\"At epoch {epoch} the value of the loss is {loss}\")\n",
    "\n",
    "    model.trunks.eval()\n",
    "    return running_loss / num_epochs"
   ]
  },
  {
   "cell_type": "code",
   "execution_count": 20,
   "metadata": {},
   "outputs": [
    {
     "name": "stdout",
     "output_type": "stream",
     "text": [
      "At epoch 0 the value of the loss is 17.9630126953125\n",
      "At epoch 200 the value of the loss is 13.099910736083984\n",
      "At epoch 400 the value of the loss is 12.755088806152344\n",
      "At epoch 600 the value of the loss is 12.55056095123291\n",
      "At epoch 800 the value of the loss is 12.506001472473145\n",
      "At epoch 1000 the value of the loss is 12.367993354797363\n",
      "At epoch 1200 the value of the loss is 12.319109916687012\n",
      "At epoch 1400 the value of the loss is 12.213516235351562\n",
      "At epoch 1600 the value of the loss is 12.186267852783203\n",
      "At epoch 1800 the value of the loss is 12.181816101074219\n",
      "At epoch 2000 the value of the loss is 12.083152770996094\n",
      "At epoch 2200 the value of the loss is 12.10498046875\n",
      "At epoch 2400 the value of the loss is 12.04687213897705\n",
      "At epoch 2600 the value of the loss is 12.052154541015625\n",
      "At epoch 2800 the value of the loss is 11.987624168395996\n",
      "At epoch 3000 the value of the loss is 11.950868606567383\n",
      "At epoch 3200 the value of the loss is 11.97569465637207\n",
      "At epoch 3400 the value of the loss is 11.910530090332031\n",
      "At epoch 3600 the value of the loss is 11.958505630493164\n",
      "At epoch 3800 the value of the loss is 11.885351181030273\n",
      "At epoch 4000 the value of the loss is 11.885845184326172\n",
      "At epoch 4200 the value of the loss is 11.881098747253418\n",
      "At epoch 4400 the value of the loss is 11.910743713378906\n",
      "At epoch 4600 the value of the loss is 11.806819915771484\n",
      "At epoch 4800 the value of the loss is 11.810144424438477\n",
      "At epoch 5000 the value of the loss is 11.815587997436523\n",
      "At epoch 5200 the value of the loss is 11.81757640838623\n",
      "At epoch 5400 the value of the loss is 11.828502655029297\n",
      "At epoch 5600 the value of the loss is 11.82614517211914\n",
      "At epoch 5800 the value of the loss is 11.758267402648926\n",
      "At epoch 6000 the value of the loss is 11.781068801879883\n",
      "At epoch 6200 the value of the loss is 11.815868377685547\n",
      "At epoch 6400 the value of the loss is 11.778766632080078\n",
      "At epoch 6600 the value of the loss is 11.786258697509766\n",
      "At epoch 6800 the value of the loss is 11.746545791625977\n",
      "At epoch 7000 the value of the loss is 11.791178703308105\n",
      "At epoch 7200 the value of the loss is 11.744492530822754\n",
      "At epoch 7400 the value of the loss is 11.731836318969727\n",
      "At epoch 7600 the value of the loss is 11.762479782104492\n",
      "At epoch 7800 the value of the loss is 11.782682418823242\n",
      "At epoch 8000 the value of the loss is 11.72266960144043\n",
      "At epoch 8200 the value of the loss is 11.728031158447266\n",
      "At epoch 8400 the value of the loss is 11.785911560058594\n",
      "At epoch 8600 the value of the loss is 11.737070083618164\n",
      "At epoch 8800 the value of the loss is 11.760441780090332\n",
      "At epoch 9000 the value of the loss is 11.747779846191406\n",
      "At epoch 9200 the value of the loss is 11.662763595581055\n",
      "At epoch 9400 the value of the loss is 11.720630645751953\n",
      "At epoch 9600 the value of the loss is 11.730487823486328\n",
      "At epoch 9800 the value of the loss is 11.721982955932617\n",
      "At epoch 10000 the value of the loss is 11.623229026794434\n",
      "At epoch 10200 the value of the loss is 11.6887845993042\n",
      "At epoch 10400 the value of the loss is 11.732475280761719\n",
      "At epoch 10600 the value of the loss is 11.712251663208008\n",
      "At epoch 10800 the value of the loss is 11.723230361938477\n",
      "At epoch 11000 the value of the loss is 11.700759887695312\n",
      "At epoch 11200 the value of the loss is 11.658981323242188\n",
      "At epoch 11400 the value of the loss is 11.69840145111084\n",
      "At epoch 11600 the value of the loss is 11.670333862304688\n",
      "At epoch 11800 the value of the loss is 11.667734146118164\n",
      "At epoch 12000 the value of the loss is 11.701154708862305\n",
      "At epoch 12200 the value of the loss is 11.642906188964844\n",
      "At epoch 12400 the value of the loss is 11.749116897583008\n",
      "At epoch 12600 the value of the loss is 11.692109107971191\n",
      "At epoch 12800 the value of the loss is 11.675495147705078\n",
      "At epoch 13000 the value of the loss is 11.651179313659668\n",
      "At epoch 13200 the value of the loss is 11.681955337524414\n",
      "At epoch 13400 the value of the loss is 11.680219650268555\n",
      "At epoch 13600 the value of the loss is 11.644051551818848\n",
      "At epoch 13800 the value of the loss is 11.692240715026855\n",
      "At epoch 14000 the value of the loss is 11.685842514038086\n",
      "At epoch 14200 the value of the loss is 11.636941909790039\n",
      "At epoch 14400 the value of the loss is 11.661599159240723\n",
      "At epoch 14600 the value of the loss is 11.655406951904297\n",
      "At epoch 14800 the value of the loss is 11.656292915344238\n",
      "At epoch 15000 the value of the loss is 11.657434463500977\n",
      "At epoch 15200 the value of the loss is 11.659942626953125\n",
      "At epoch 15400 the value of the loss is 11.605588912963867\n",
      "At epoch 15600 the value of the loss is 11.650476455688477\n",
      "At epoch 15800 the value of the loss is 11.650701522827148\n",
      "At epoch 16000 the value of the loss is 11.630516052246094\n",
      "At epoch 16200 the value of the loss is 11.597443580627441\n",
      "At epoch 16400 the value of the loss is 11.636975288391113\n",
      "At epoch 16600 the value of the loss is 11.691084861755371\n",
      "At epoch 16800 the value of the loss is 11.665468215942383\n",
      "At epoch 17000 the value of the loss is 11.665428161621094\n",
      "At epoch 17200 the value of the loss is 11.66453742980957\n",
      "At epoch 17400 the value of the loss is 11.648133277893066\n",
      "At epoch 17600 the value of the loss is 11.645837783813477\n",
      "At epoch 17800 the value of the loss is 11.635506629943848\n",
      "At epoch 18000 the value of the loss is 11.56747055053711\n",
      "At epoch 18200 the value of the loss is 11.628886222839355\n",
      "At epoch 18400 the value of the loss is 11.660781860351562\n",
      "At epoch 18600 the value of the loss is 11.653336524963379\n",
      "At epoch 18800 the value of the loss is 11.63025951385498\n",
      "At epoch 19000 the value of the loss is 11.605953216552734\n",
      "At epoch 19200 the value of the loss is 11.64547348022461\n",
      "At epoch 19400 the value of the loss is 11.629554748535156\n",
      "At epoch 19600 the value of the loss is 11.645376205444336\n",
      "At epoch 19800 the value of the loss is 11.654409408569336\n",
      "Took 202.6662414073944\n"
     ]
    }
   ],
   "source": [
    "import time\n",
    "start_time = time.time()\n",
    "train_autoregressive_model()\n",
    "end_time = time.time()\n",
    "print(\"Took\", end_time - start_time)"
   ]
  },
  {
   "cell_type": "markdown",
   "metadata": {},
   "source": [
    "Compute densities"
   ]
  },
  {
   "cell_type": "code",
   "execution_count": null,
   "metadata": {},
   "outputs": [],
   "source": [
    "total_visited = 0\n",
    "\n",
    "def encode(s):\n",
    "    num_buckets = 20\n",
    "    ac_low = model.ac_low.cpu().numpy()\n",
    "    ac_high = model.ac_high.cpu().numpy()\n",
    "    bucket_size = (ac_high - ac_low)/num_buckets\n",
    "    bucket_idx = (s[:3] - ac_low[:3]) // (bucket_size[:3] + 1e-9)\n",
    "    bucket_idx = np.clip(bucket_idx, 0, num_buckets - 1)\n",
    "#     print(bucket_idx)\n",
    "    return \"$\".join([str(int(x)) for x in bucket_idx])\n",
    "\n",
    "def query(x, y):\n",
    "    global total_visited\n",
    "    encoded1 = encode(x)\n",
    "    encoded2 = encode(y)\n",
    "\n",
    "    key = encoded1 + \"&\" + encoded2\n",
    "    \n",
    "    if key in visited:\n",
    "        return visited[key]/float(total_visited)\n",
    "    else:\n",
    "        return 0\n",
    "\n",
    "def add_pair(x, y):\n",
    "    global total_visited\n",
    "    encoded1 = encode(x)\n",
    "    encoded2 = encode(y)\n",
    "    \n",
    "#     if encoded1 != encode(np.array([2, -1, 0])):\n",
    "#         return\n",
    "\n",
    "    print(\"Not skipped\")\n",
    "\n",
    "    key = encoded1 + \"&\" + encoded2\n",
    "    \n",
    "    if key in visited:\n",
    "        visited[key] += 1\n",
    "    else:\n",
    "        visited[key] = 1\n",
    "    \n",
    "    total_visited += 1\n",
    "\n",
    "def add_traj(traj):\n",
    "    L = len(traj)\n",
    "    for i in range(L):\n",
    "        for j in range(i+1, min(L, i + length_between_samples + 1)):\n",
    "            add_pair(traj[i], traj[j])\n"
   ]
  },
  {
   "cell_type": "code",
   "execution_count": null,
   "metadata": {
    "scrolled": false
   },
   "outputs": [],
   "source": [
    "visited = dict()\n",
    "\n",
    "for i, traj in enumerate(buffer_states):\n",
    "    print(i, 'of', len(buffer_states))\n",
    "    add_traj(traj[:traj_lengths[i]])"
   ]
  },
  {
   "cell_type": "markdown",
   "metadata": {},
   "source": [
    "Compare densities with logprob"
   ]
  },
  {
   "cell_type": "code",
   "execution_count": 21,
   "metadata": {},
   "outputs": [],
   "source": [
    "def forward_autoregressive_model(s1, s2):\n",
    "    states_1 = torch.Tensor(s1).cuda()\n",
    "    states_2 = torch.Tensor(s2).cuda()\n",
    "    ins = torch.zeros_like(states_1).cuda()\n",
    "    vals = torch.cat([states_1, states_2], dim=-1).cuda()\n",
    "    with torch.no_grad():\n",
    "        return model.log_prob(ins, vals).detach().cpu().numpy()"
   ]
  },
  {
   "cell_type": "code",
   "execution_count": 22,
   "metadata": {},
   "outputs": [
    {
     "data": {
      "text/plain": [
       "<matplotlib.collections.PathCollection at 0x7f4748045d60>"
      ]
     },
     "execution_count": 22,
     "metadata": {},
     "output_type": "execute_result"
    },
    {
     "data": {
      "image/png": "[encoded data removed]",
      "text/plain": [
       "<Figure size 640x480 with 1 Axes>"
      ]
     },
     "metadata": {},
     "output_type": "display_data"
    }
   ],
   "source": [
    "states = np.array(np.meshgrid(np.linspace(-2.5, 2.5, 100), np.linspace(-1.5,1.5,100)))\n",
    "states = np.array(states).reshape(2,-1).T\n",
    "states = np.array([[states[i,0], states[i,1], 0] for i in range(len(states))])\n",
    "\n",
    "start = np.array([2, -1, 0])\n",
    "starts = np.array([start for _ in range(100 * 100)])\n",
    "\n",
    "r_val = np.exp(np.array(forward_autoregressive_model(starts, states)))\n",
    "plt.clf()\n",
    "plt.cla()\n",
    "plt.scatter(states[:, 0], states[:, 1], c=r_val, cmap=cm.jet)"
   ]
  },
  {
   "cell_type": "code",
   "execution_count": null,
   "metadata": {},
   "outputs": [],
   "source": [
    "r_val = np.array([query(starts[i], states[i]) for i in range(len(starts))])\n",
    "plt.clf()\n",
    "plt.cla()\n",
    "plt.scatter(states[:, 0], states[:, 1], c=r_val, cmap=cm.jet)"
   ]
  },
  {
   "cell_type": "code",
   "execution_count": null,
   "metadata": {},
   "outputs": [],
   "source": []
  },
  {
   "cell_type": "code",
   "execution_count": null,
   "metadata": {},
   "outputs": [],
   "source": []
  },
  {
   "cell_type": "code",
   "execution_count": null,
   "metadata": {},
   "outputs": [],
   "source": []
  }
 ],
 "metadata": {
  "colab": {
   "authorship_tag": "ABX9TyMrw2yPptrb93hgMoY8B3jr",
   "collapsed_sections": [],
   "include_colab_link": true,
   "name": "GCSLDemo.ipynb",
   "provenance": []
  },
  "kernelspec": {
   "display_name": "Python 3 (ipykernel)",
   "language": "python",
   "name": "python3"
  },
  "language_info": {
   "codemirror_mode": {
    "name": "ipython",
    "version": 3
   },
   "file_extension": ".py",
   "mimetype": "text/x-python",
   "name": "python",
   "nbconvert_exporter": "python",
   "pygments_lexer": "ipython3",
   "version": "3.8.16"
  },
  "vscode": {
   "interpreter": {
    "hash": "31f2aee4e71d21fbe5cf8b01ff0e069b9275f58929596ceb00d14d90e3e16cd6"
   }
  }
 },
 "nbformat": 4,
 "nbformat_minor": 4
}
